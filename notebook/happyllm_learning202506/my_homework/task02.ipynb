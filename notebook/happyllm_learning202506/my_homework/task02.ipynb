{
 "cells": [
  {
   "cell_type": "markdown",
   "id": "e3072994",
   "metadata": {},
   "source": [
    "# Task02 Transformer架构"
   ]
  },
  {
   "cell_type": "markdown",
   "id": "6b61136e",
   "metadata": {},
   "source": [
    "## 1 注意力机制"
   ]
  },
  {
   "cell_type": "markdown",
   "id": "8f75fd1d",
   "metadata": {},
   "source": [
    "- 核心架构：前馈神经网络（FNN）、卷积神经网络（CNN）、循环神经网络（RNN）\n",
    "- 注意力机制：将重点注意力集中在一个或几个 token，从而取得更高效高质的计算效果。\n",
    "- 注意力机制的核心变量：Query（查询值）、Key（键值）和 Value（真值）；当Key与Query相关性越高，则其所应该赋予的注意力权重就越大。"
   ]
  },
  {
   "cell_type": "markdown",
   "id": "82e4f352",
   "metadata": {},
   "source": [
    "**注意力机制公式推导：**\n",
    "\n",
    "1. 用$ v·w =\\displaystyle \\sum_{i}v_iw_i $ 公式表示词向量的相似性，语义相似，这个值就大于0，语义不相似，这个值就小于0。\n",
    "2. 计算查询值Query与字典中每个Key的相似度：$ x=q K^T $。\n",
    "3. 将上述相似度进行归一化：$ \\text{softmax}(x)_i = \\displaystyle \\frac{e^{xi}}{\\sum_{j}e^{x_j}} $。\n",
    "4. 得到注意力的基本公式：$ \\text{attention}(Q,K,V) = \\text{softmax}(qK^T)v $。\n",
    "5. 一次性查询多个Query，用Q表示，即注意力的基本公式为$\\text{attention}(Q,K,V) = \\text{softmax}(QK^T) V $。\n",
    "6. 对Q和K的乘积进行缩放，得到最终的注意力公式：$\\text{attention}(Q,K,V) = \\text{softmax} (\\frac{QK^T}{\\sqrt{d_k}}) V $。"
   ]
  },
  {
   "cell_type": "markdown",
   "id": "ffc63282",
   "metadata": {},
   "source": [
    "**注意力机制的代码实现：**"
   ]
  },
  {
   "cell_type": "code",
   "execution_count": 1,
   "id": "cc91b30a",
   "metadata": {},
   "outputs": [],
   "source": [
    "import math\n",
    "import torch\n",
    "\n",
    "def attention(query, key, value):\n",
    "    \"\"\"\n",
    "    注意力计算函数\n",
    "    :param query: 查询值矩阵\n",
    "    :param key: 键值矩阵\n",
    "    :param value: 真值矩阵\n",
    "    :return:\n",
    "    \"\"\"\n",
    "    # 获取键向量的维度，键向量的维度和值向量的维度相同\n",
    "    d_k = query.size(-1)\n",
    "    # 计算Q与K的内积并除以根号dk\n",
    "    # transpose相当于转置\n",
    "    scores = torch.matmul(query, key.transpose(-2, -1)) / math.sqrt(d_k)\n",
    "    # Softmax\n",
    "    p_attn = scores.softmax(dim=-1)\n",
    "    # 根据计算结果对value进行加权求和\n",
    "    return torch.matmul(p_attn, value), p_attn"
   ]
  },
  {
   "cell_type": "markdown",
   "id": "4da9f74c",
   "metadata": {},
   "source": [
    "- 自注意力：计算本身序列中每个元素对其他元素的注意力分布。在具体实现中是在attention函数中，通过给 Q、K、V 的输入传入同一个参数实现的。\n",
    "```python\n",
    "attention(Q,Q,Q)\n",
    "attention(K,K,K)\n",
    "attention(V,V,V)\n",
    "```"
   ]
  },
  {
   "cell_type": "markdown",
   "id": "26fefc31",
   "metadata": {},
   "source": [
    "- 掩码自注意力：使用注意力掩码（遮蔽一些特定位置的 token）的自注意力机制。其目的是让模型只能使用历史信息进行预测而不能看到未来信息。掩码矩阵是一个和文本序列等长的上三角矩阵。当输入维度为 （batch_size, seq_len, hidden_size）时，掩码矩阵维度一般为 (1, seq_len, seq_len)。"
   ]
  },
  {
   "cell_type": "markdown",
   "id": "02c727a8",
   "metadata": {},
   "source": [
    "- 多头注意力：将原始的输入序列进行多组的自注意力处理，然后再将每一组得到的自注意力结果拼接起来，再通过一个线性层进行处理，得到最终的输出。"
   ]
  },
  {
   "cell_type": "markdown",
   "id": "a25e7ac3",
   "metadata": {},
   "source": [
    "**多头注意力的代码实现：**"
   ]
  },
  {
   "cell_type": "code",
   "execution_count": 2,
   "id": "c1611dc1",
   "metadata": {},
   "outputs": [],
   "source": [
    "from dataclasses import dataclass\n",
    "import torch.nn as nn\n",
    "import torch.nn.functional as F\n",
    "\n",
    "\n",
    "@dataclass\n",
    "class ModelArgs:\n",
    "    \"\"\"模型参数\"\"\"\n",
    "    n_embd: int  # 嵌入维度\n",
    "    n_heads: int  # 头数\n",
    "    dim: int  # 模型维度\n",
    "    dropout: float\n",
    "    max_seq_len: int\n",
    "    vocab_size: int\n",
    "    block_size: int\n",
    "    n_layer: int\n",
    "\n",
    "\n",
    "class MultiHeadAttention(nn.Module):\n",
    "    \"\"\"多头自注意力计算模块\"\"\"\n",
    "\n",
    "    def __init__(self, args: ModelArgs, is_causal=False):\n",
    "        # 构造函数\n",
    "        # args: 配置对象\n",
    "        super().__init__()\n",
    "        # 隐藏层维度必须是头数的整数倍，因为后面我们会将输入拆成头数个矩阵\n",
    "        assert args.n_embd % args.n_heads == 0\n",
    "        # 模型并行处理大小，默认为1。\n",
    "        model_parallel_size = 1\n",
    "        # 本地计算头数，等于总头数除以模型并行处理大小。\n",
    "        self.n_local_heads = args.n_heads // model_parallel_size\n",
    "        # 每个头的维度，等于模型维度除以头的总数。\n",
    "        self.head_dim = args.dim // args.n_heads\n",
    "\n",
    "        # Wq, Wk, Wv 参数矩阵，每个参数矩阵为 n_embd x n_embd\n",
    "        # 这里通过三个组合矩阵来代替了n个参数矩阵的组合，其逻辑在于矩阵内积再拼接其实等同于拼接矩阵再内积，\n",
    "        # 每一个线性层其实相当于n个参数矩阵的拼接\n",
    "        self.wq = nn.Linear(args.dim, args.n_heads * self.head_dim, bias=False)\n",
    "        self.wk = nn.Linear(args.dim, args.n_heads * self.head_dim, bias=False)\n",
    "        self.wv = nn.Linear(args.dim, args.n_heads * self.head_dim, bias=False)\n",
    "        # 输出权重矩阵，维度为 n_embd x n_embd（head_dim = n_embeds / n_heads）\n",
    "        self.wo = nn.Linear(args.n_heads * self.head_dim, args.dim, bias=False)\n",
    "        # 注意力的 dropout\n",
    "        self.attn_dropout = nn.Dropout(args.dropout)\n",
    "        # 残差连接的 dropout\n",
    "        self.resid_dropout = nn.Dropout(args.dropout)\n",
    "        self.is_causal = is_causal\n",
    "        \n",
    "        # 创建一个上三角矩阵，用于遮蔽未来信息\n",
    "        # 注意，因为是多头注意力，Mask 矩阵比之前我们定义的多一个维度\n",
    "        if is_causal:\n",
    "            mask = torch.full((1, 1, args.max_seq_len, args.max_seq_len), float(\"-inf\"))\n",
    "            mask = torch.triu(mask, diagonal=1)\n",
    "            # 注册为模型的缓冲区\n",
    "            self.register_buffer(\"mask\", mask)\n",
    "\n",
    "    def forward(self, q: torch.Tensor, k: torch.Tensor, v: torch.Tensor):\n",
    "\n",
    "        # 获取批次大小和序列长度，[batch_size, seq_len, dim]\n",
    "        bsz, seq_len, _ = q.shape\n",
    "\n",
    "        # 计算查询（Q）、键（K）、值（V）,输入通过参数矩阵层，维度为 (B, T, n_embed) x (n_embed, n_embed) -> (B, T, n_embed)\n",
    "        xq, xk, xv = self.wq(q), self.wk(k), self.wv(v)\n",
    "\n",
    "        # 将 Q、K、V 拆分成多头，维度为 (B, T, n_head, C // n_head)，然后交换维度，变成 (B, n_head, T, C // n_head)\n",
    "        # 因为在注意力计算中我们是取了后两个维度参与计算\n",
    "        # 为什么要先按B*T*n_head*C//n_head展开再互换1、2维度而不是直接按注意力输入展开，是因为view的展开方式是直接把输入全部排开，\n",
    "        # 然后按要求构造，可以发现只有上述操作能够实现我们将每个头对应部分取出来的目标\n",
    "        xq = xq.view(bsz, seq_len, self.n_local_heads, self.head_dim)\n",
    "        xk = xk.view(bsz, seq_len, self.n_local_heads, self.head_dim)\n",
    "        xv = xv.view(bsz, seq_len, self.n_local_heads, self.head_dim)\n",
    "        xq = xq.transpose(1, 2)\n",
    "        xk = xk.transpose(1, 2)\n",
    "        xv = xv.transpose(1, 2)\n",
    "\n",
    "        # 注意力计算\n",
    "        # 计算 QK^T / sqrt(d_k)，维度为 (B, nh, T, hs) x (B, nh, hs, T) -> (B, nh, T, T)\n",
    "        scores = torch.matmul(xq, xk.transpose(2, 3)) / math.sqrt(self.head_dim)\n",
    "        # 掩码自注意力必须有注意力掩码\n",
    "        if self.is_causal:\n",
    "            assert hasattr(self, 'mask')\n",
    "            # 这里截取到序列长度，因为有些序列可能比 max_seq_len 短\n",
    "            scores = scores + self.mask[:, :, :seq_len, :seq_len]\n",
    "        # 计算 softmax，维度为 (B, nh, T, T)\n",
    "        scores = F.softmax(scores.float(), dim=-1).type_as(xq)\n",
    "        # 做 Dropout\n",
    "        scores = self.attn_dropout(scores)\n",
    "        # V * Score，维度为(B, nh, T, T) x (B, nh, T, hs) -> (B, nh, T, hs)\n",
    "        output = torch.matmul(scores, xv)\n",
    "\n",
    "        # 恢复时间维度并合并头。\n",
    "        # 将多头的结果拼接起来, 先交换维度为 (B, T, n_head, C // n_head)，再拼接成 (B, T, n_head * C // n_head)\n",
    "        # contiguous 函数用于重新开辟一块新内存存储，因为Pytorch设置先transpose再view会报错，\n",
    "        # 因为view直接基于底层存储得到，然而transpose并不会改变底层存储，因此需要额外存储\n",
    "        output = output.transpose(1, 2).contiguous().view(bsz, seq_len, -1)\n",
    "\n",
    "        # 最终投影回残差流。\n",
    "        output = self.wo(output)\n",
    "        output = self.resid_dropout(output)\n",
    "        return output"
   ]
  },
  {
   "cell_type": "markdown",
   "id": "370ce53d",
   "metadata": {},
   "source": [
    "## 2 Encoder-Decoder"
   ]
  },
  {
   "cell_type": "markdown",
   "id": "59bc9887",
   "metadata": {},
   "source": [
    "- Seq2Seq 模型：序列到序列，对自然语言序列进行编码再解码。"
   ]
  },
  {
   "cell_type": "markdown",
   "id": "ea2bba97",
   "metadata": {},
   "source": [
    "- 前馈神经网络（FFN）：每一层的神经元都和上下两层的每一个神经元完全连接的网络结构。"
   ]
  },
  {
   "cell_type": "code",
   "execution_count": 3,
   "id": "78ca16b7",
   "metadata": {},
   "outputs": [],
   "source": [
    "class MLP(nn.Module):\n",
    "    \"\"\"前馈神经网络\"\"\"\n",
    "\n",
    "    def __init__(self, dim: int, hidden_dim: int, dropout: float):\n",
    "        super().__init__()\n",
    "        # 定义第一层线性变换，从输入维度到隐藏维度\n",
    "        self.w1 = nn.Linear(dim, hidden_dim, bias=False)\n",
    "        # 定义第二层线性变换，从隐藏维度到输入维度\n",
    "        self.w2 = nn.Linear(hidden_dim, dim, bias=False)\n",
    "        # 定义dropout层，用于防止过拟合\n",
    "        self.dropout = nn.Dropout(dropout)\n",
    "\n",
    "    def forward(self, x):\n",
    "        # 前向传播函数\n",
    "        # 输入x通过第一层线性变换和RELU激活函数\n",
    "        # 通过第二层线性变换和dropout层\n",
    "        return self.dropout(self.w2(F.relu(self.w1(x))))"
   ]
  },
  {
   "cell_type": "markdown",
   "id": "5714cf2a",
   "metadata": {},
   "source": [
    "- 层归一化：将深度神经网络中每一层的输入归一化成标准正态分布。\n",
    "    1. 计算样本的均值： $\\displaystyle \\mu_j = \\frac{1}{m}\\sum^{m}_{i=1}Z_j^{i}$\n",
    "    2. 计算样本的方差：$\\displaystyle \\sigma^2 = \\frac{1}{m}\\sum^{m}_{i=1}(Z_j^i - \\mu_j)^2$\n",
    "    3. 进行归一化：$\\displaystyle \\widetilde{Z_j} = \\frac{Z_j - \\mu_j}{\\sqrt{\\sigma^2 + \\epsilon}}$"
   ]
  },
  {
   "cell_type": "code",
   "execution_count": 4,
   "id": "0e1dc4f2",
   "metadata": {},
   "outputs": [],
   "source": [
    "class LayerNorm(nn.Module):\n",
    "    \"\"\"层归一化\"\"\"\n",
    "\n",
    "    def __init__(self, features, eps=1e-6):\n",
    "        super(LayerNorm, self).__init__()\n",
    "        # 线性矩阵做映射\n",
    "        self.a_2 = nn.Parameter(torch.ones(features))\n",
    "        self.b_2 = nn.Parameter(torch.zeros(features))\n",
    "        self.eps = eps\n",
    "\n",
    "    def forward(self, x):\n",
    "        # 在统计每个样本所有维度的值，求均值和方差\n",
    "        mean = x.mean(-1, keepdim=True)  # mean: [bsz, max_len, 1]\n",
    "        std = x.std(-1, keepdim=True)  # std: [bsz, max_len, 1]\n",
    "        # 注意这里也在最后一个维度发生了广播\n",
    "        return self.a_2 * (x - mean) / (std + self.eps) + self.b_2"
   ]
  },
  {
   "cell_type": "markdown",
   "id": "5219fbca",
   "metadata": {},
   "source": [
    "- 残差连接：目的是为了避免模型退化，允许最底层信息直接传到最高层。"
   ]
  },
  {
   "cell_type": "markdown",
   "id": "083e6b33",
   "metadata": {},
   "source": [
    "- Encoder实现：由 N 个 Encoder Layer 组成，每一个 Encoder Layer 包括一个注意力层和一个前馈神经网络。"
   ]
  },
  {
   "cell_type": "code",
   "execution_count": 5,
   "id": "397a5dc1",
   "metadata": {},
   "outputs": [],
   "source": [
    "class EncoderLayer(nn.Module):\n",
    "    \"\"\"Encoder层\"\"\"\n",
    "\n",
    "    def __init__(self, args: ModelArgs):\n",
    "        super().__init__()\n",
    "        # 一个 Layer 中有两个 LayerNorm，分别在 Attention 之前和 MLP 之前\n",
    "        self.attention_norm = LayerNorm(args.n_embd)\n",
    "        # Encoder 不需要掩码，传入 is_causal=False\n",
    "        self.attention = MultiHeadAttention(args, is_causal=False)\n",
    "        self.fnn_norm = LayerNorm(args.n_embd)\n",
    "        self.feed_forward = MLP(args.dim, args.dim, args.dropout)\n",
    "\n",
    "    def forward(self, x):\n",
    "        # Layer Norm\n",
    "        norm_x = self.attention_norm(x)\n",
    "        # 自注意力\n",
    "        h = x + self.attention.forward(norm_x, norm_x, norm_x)\n",
    "        # 经过前馈神经网络\n",
    "        out = h + self.feed_forward.forward(self.fnn_norm(h))\n",
    "        return out\n",
    "\n",
    "\n",
    "class Encoder(nn.Module):\n",
    "    \"\"\"Encoder 块\"\"\"\n",
    "\n",
    "    def __init__(self, args: ModelArgs):\n",
    "        super(Encoder, self).__init__()\n",
    "        # 一个 Encoder 由 N 个 Encoder Layer 组成\n",
    "        self.layers = nn.ModuleList([EncoderLayer(args) for _ in range(args.n_layer)])\n",
    "        self.norm = LayerNorm(args.n_embd)\n",
    "\n",
    "    def forward(self, x):\n",
    "        # 分别通过 N 层 Encoder Layer\n",
    "        for layer in self.layers:\n",
    "            x = layer(x)\n",
    "        return self.norm(x)"
   ]
  },
  {
   "cell_type": "markdown",
   "id": "a395e934",
   "metadata": {},
   "source": [
    "- Decoder：由两个注意力层和一个前馈神经网络组成。第一个注意力层是一个掩码自注意力层，第二个注意力层是一个多头注意力层，该层将使用第一个注意力层的输出作为 query，使用 Encoder 的输出作为 key 和 value，来计算注意力分数。最后，再经过前馈神经网络。"
   ]
  },
  {
   "cell_type": "code",
   "execution_count": 6,
   "id": "7751226c",
   "metadata": {},
   "outputs": [],
   "source": [
    "class DecoderLayer(nn.Module):\n",
    "    \"\"\"Decoder层\"\"\"\n",
    "\n",
    "    def __init__(self, args: ModelArgs):\n",
    "        super().__init__()\n",
    "        # 一个 Layer 中有三个 LayerNorm，分别在 Mask Attention 之前、Self Attention 之前和 MLP 之前\n",
    "        self.attention_norm_1 = LayerNorm(args.n_embd)\n",
    "        # Decoder 的第一个部分是 Mask Attention，传入 is_causal=True\n",
    "        self.mask_attention = MultiHeadAttention(args, is_causal=True)\n",
    "        self.attention_norm_2 = LayerNorm(args.n_embd)\n",
    "        # Decoder 的第二个部分是 类似于 Encoder 的 Attention，传入 is_causal=False\n",
    "        self.attention = MultiHeadAttention(args, is_causal=False)\n",
    "        self.ffn_norm = LayerNorm(args.n_embd)\n",
    "        # 第三个部分是 MLP\n",
    "        self.feed_forward = MLP(args.dim, args.dim, args.dropout)\n",
    "\n",
    "    def forward(self, x, enc_out):\n",
    "        # Layer Norm\n",
    "        x = self.attention_norm_1(x)\n",
    "        # 掩码自注意力\n",
    "        x = x + self.mask_attention.forward(x, x, x)\n",
    "        # 多头注意力\n",
    "        x = self.attention_norm_2(x)\n",
    "        h = x + self.attention.forward(x, enc_out, enc_out)\n",
    "        # 经过前馈神经网络\n",
    "        out = h + self.feed_forward.forward(self.ffn_norm(h))\n",
    "        return out\n",
    "\n",
    "\n",
    "class Decoder(nn.Module):\n",
    "    \"\"\"解码器\"\"\"\n",
    "\n",
    "    def __init__(self, args: ModelArgs):\n",
    "        super(Decoder, self).__init__()\n",
    "        # 一个 Decoder 由 N 个 Decoder Layer 组成\n",
    "        self.layers = nn.ModuleList([DecoderLayer(args) for _ in range(args.n_layer)])\n",
    "        self.norm = LayerNorm(args.n_embd)\n",
    "\n",
    "    def forward(self, x, enc_out):\n",
    "        # 分别通过每一个Decoder Layer\n",
    "        for layer in self.layers:\n",
    "            x = layer(x, enc_out)\n",
    "        return self.norm(x)"
   ]
  },
  {
   "cell_type": "markdown",
   "id": "2bd188a8",
   "metadata": {},
   "source": [
    "## 3 搭建一个 Transformer"
   ]
  },
  {
   "cell_type": "markdown",
   "id": "8cce6a14",
   "metadata": {},
   "source": [
    "- Embeddng 层：存储固定大小的词典的嵌入向量查找表。让自然语言输入通过分词器 tokenizer，形成一个固定的词序码。"
   ]
  },
  {
   "cell_type": "markdown",
   "id": "e9c192f7",
   "metadata": {},
   "source": [
    "- 位置编码：保留词在语句序列中的相对位置信息，Transformer使用了正余弦函数来进行位置编码。"
   ]
  },
  {
   "cell_type": "markdown",
   "id": "df11f1d7",
   "metadata": {},
   "source": [
    "$$\n",
    "\\text{PE} (\\text{pos}, 2i) = sin(\\frac{\\text{pos}} {10000^{2i/d_{\\text{model}}}}) \\\\\n",
    "\\text{PE} (\\text{pos}, 2i+1) = cos(\\frac{\\text{pos}} {10000^{2i/d_{\\text{model}}}})\n",
    "$$"
   ]
  },
  {
   "cell_type": "code",
   "execution_count": 7,
   "id": "b4d0aa4f",
   "metadata": {},
   "outputs": [],
   "source": [
    "import numpy as np\n",
    "import matplotlib.pyplot as plt\n",
    "\n",
    "def PositionEncoding(seq_len, d_model, n=10000):\n",
    "    P = np.zeros((seq_len, d_model))\n",
    "    for k in range(seq_len):\n",
    "        for i in np.arange(int(d_model/2)):\n",
    "            denominator = np.power(n, 2*i/d_model)\n",
    "            P[k, 2*i] = np.sin(k/denominator)\n",
    "            P[k, 2*i+1] = np.cos(k/denominator)\n",
    "    return P"
   ]
  },
  {
   "cell_type": "code",
   "execution_count": 8,
   "id": "76469823",
   "metadata": {},
   "outputs": [
    {
     "name": "stdout",
     "output_type": "stream",
     "text": [
      "[[ 0.          1.          0.          1.        ]\n",
      " [ 0.84147098  0.54030231  0.09983342  0.99500417]\n",
      " [ 0.90929743 -0.41614684  0.19866933  0.98006658]\n",
      " [ 0.14112001 -0.9899925   0.29552021  0.95533649]]\n"
     ]
    }
   ],
   "source": [
    "P = PositionEncoding(seq_len=4, d_model=4, n=100)\n",
    "print(P)"
   ]
  },
  {
   "cell_type": "markdown",
   "id": "284f2c96",
   "metadata": {},
   "source": [
    "按照torch的规则，依据位置编码的实现原理，代码实现如下："
   ]
  },
  {
   "cell_type": "code",
   "execution_count": 9,
   "id": "060af335",
   "metadata": {},
   "outputs": [],
   "source": [
    "class PositionalEncoding(nn.Module):\n",
    "    \"\"\"位置编码模块\"\"\"\n",
    "\n",
    "    def __init__(self, args: ModelArgs):\n",
    "        super(PositionalEncoding, self).__init__()\n",
    "        # Dropout 层\n",
    "        self.dropout = nn.Dropout(p=args.dropout)\n",
    "\n",
    "        # block size 是序列的最大长度\n",
    "        pe = torch.zeros(args.block_size, args.n_embd)\n",
    "        position = torch.arange(0, args.block_size).unsqueeze(1)\n",
    "        # 计算 theta\n",
    "        div_term = torch.exp(\n",
    "            torch.arange(0, args.n_embd, 2) * -(math.log(10000.0) / args.n_embd)\n",
    "        )\n",
    "        # 分别计算 sin、cos 结果\n",
    "        pe[:, 0::2] = torch.sin(position * div_term)\n",
    "        pe[:, 1::2] = torch.cos(position * div_term)\n",
    "        pe = pe.unsqueeze(0)\n",
    "        self.register_buffer(\"pe\", pe)\n",
    "\n",
    "    def forward(self, x):\n",
    "        # 将位置编码加到 Embedding 结果上\n",
    "        x = x + self.pe[:, : x.size(1)].requires_grad_(False)\n",
    "        return self.dropout(x)"
   ]
  },
  {
   "cell_type": "markdown",
   "id": "3e00babb",
   "metadata": {},
   "source": [
    "- 一个完整的 Transformer：经过 tokenizer 映射后的输出，先经过 Embedding 层和 Positional Embedding 层编码，然后进入 N 个 Encoder 和 N 个 Decoder（在 Transformer 原模型中，N 取为6），最后经过一个线性层和一个 Softmax 层就得到了最终输出。"
   ]
  },
  {
   "cell_type": "code",
   "execution_count": 10,
   "id": "170ccb37",
   "metadata": {},
   "outputs": [],
   "source": [
    "class Transformer(nn.Module):\n",
    "    \"\"\"Transformer整体模型\"\"\"\n",
    "\n",
    "    def __init__(self, args: ModelArgs):\n",
    "        super().__init__()\n",
    "        # 必须输入词表大小和 block size\n",
    "        assert args.vocab_size is not None\n",
    "        assert args.block_size is not None\n",
    "        self.args = args\n",
    "        self.transformer = nn.ModuleDict(dict(\n",
    "            wte=nn.Embedding(args.vocab_size, args.n_embd),\n",
    "            wpe=PositionalEncoding(args),\n",
    "            drop=nn.Dropout(args.dropout),\n",
    "            encoder=Encoder(args),\n",
    "            decoder=Decoder(args),\n",
    "        ))\n",
    "        # 最后的线性层，输入是 n_embd，输出是词表大小\n",
    "        self.lm_head = nn.Linear(args.n_embd, args.vocab_size, bias=False)\n",
    "\n",
    "        # 初始化所有的权重\n",
    "        self.apply(self._init_weights)\n",
    "\n",
    "        # 查看所有参数的数量\n",
    "        print(\"number of parameters: %.2fM\" % (self.get_num_params() / 1e6,))\n",
    "\n",
    "    def get_num_params(self, non_embedding=False):\n",
    "        \"\"\"统计所有参数的数量\"\"\"\n",
    "        # non_embedding: 是否统计 embedding 的参数\n",
    "        n_params = sum(p.numel() for p in self.parameters())\n",
    "        # 如果不统计 embedding 的参数，就减去\n",
    "        if non_embedding:\n",
    "            n_params -= self.transformer.wpe.weight.numel()\n",
    "        return n_params\n",
    "\n",
    "    def _init_weights(self, module):\n",
    "        \"\"\"初始化权重\"\"\"\n",
    "        # 线性层和 Embedding 层初始化为正则分布\n",
    "        if isinstance(module, nn.Linear):\n",
    "            torch.nn.init.normal_(module.weight, mean=0.0, std=0.02)\n",
    "            if module.bias is not None:\n",
    "                torch.nn.init.zeros_(module.bias)\n",
    "        elif isinstance(module, nn.Embedding):\n",
    "            torch.nn.init.normal_(module.weight, mean=0.0, std=0.02)\n",
    "\n",
    "    def forward(self, idx, targets=None):\n",
    "        \"\"\"前向计算函数\"\"\"\n",
    "        # 输入为 idx，维度为 (batch size, sequence length, 1)；targets 为目标序列，用于计算 loss\n",
    "        device = idx.device\n",
    "        b, t = idx.size()\n",
    "        assert t <= self.args.block_size, f\"不能计算该序列，该序列长度为 {t}, 最大序列长度只有 {self.args.block_size}\"\n",
    "\n",
    "        # 通过 self.transformer\n",
    "        # 首先将输入 idx 通过 Embedding 层，得到维度为 (batch size, sequence length, n_embd)\n",
    "        print(\"idx:\", idx.size())\n",
    "        # 通过 Embedding 层\n",
    "        tok_emb = self.transformer.wte(idx)\n",
    "        print(\"tok_emb:\", tok_emb.size())\n",
    "        # 然后通过位置编码\n",
    "        pos_emb = self.transformer.wpe(tok_emb)\n",
    "        # 再进行 Dropout\n",
    "        x = self.transformer.drop(pos_emb)\n",
    "        # 然后通过 Encoder\n",
    "        print(\"x after wpe:\", x.size())\n",
    "        enc_out = self.transformer.encoder(x)\n",
    "        print(\"enc_out:\", enc_out.size())\n",
    "        # 再通过 Decoder\n",
    "        x = self.transformer.decoder(x, enc_out)\n",
    "        print(\"x after decoder:\", x.size())\n",
    "\n",
    "        if targets is not None:\n",
    "            # 训练阶段，如果我们给了 targets，就计算 loss\n",
    "            # 先通过最后的 Linear 层，得到维度为 (batch size, sequence length, vocab size)\n",
    "            logits = self.lm_head(x)\n",
    "            # 再跟 targets 计算交叉熵\n",
    "            loss = F.cross_entropy(logits.view(-1, logits.size(-1)), targets.view(-1), ignore_index=-1)\n",
    "        else:\n",
    "            # 推理阶段，我们只需要 logits，loss 为 None\n",
    "            # 取 -1 是只取序列中的最后一个作为输出\n",
    "            logits = self.lm_head(x[:, [-1], :])  # note: using list [-1] to preserve the time dim\n",
    "            loss = None\n",
    "\n",
    "        return logits, loss"
   ]
  },
  {
   "cell_type": "markdown",
   "id": "2c70b94b",
   "metadata": {},
   "source": [
    "测试一下这个Transformer是否能正常运行："
   ]
  },
  {
   "cell_type": "code",
   "execution_count": 11,
   "id": "b9042f59",
   "metadata": {},
   "outputs": [
    {
     "name": "stdout",
     "output_type": "stream",
     "text": [
      "number of parameters: 4.55M\n",
      "idx: torch.Size([1, 512])\n",
      "tok_emb: torch.Size([1, 512, 100])\n",
      "x after wpe: torch.Size([1, 512, 100])\n",
      "enc_out: torch.Size([1, 512, 100])\n",
      "x after decoder: torch.Size([1, 512, 100])\n",
      "logits: tensor([[[ 0.1250,  0.1328,  0.0184,  ..., -0.0308,  0.0209,  0.1302]]],\n",
      "       grad_fn=<UnsafeViewBackward0>)\n",
      "output: ᅥ\n"
     ]
    }
   ],
   "source": [
    "from transformers import BertTokenizer\n",
    "\n",
    "args = ModelArgs(100, 10, 100, 0.1, 512, 1000, 1000, 2)\n",
    "\n",
    "text = \"我喜欢快乐地学习大模型\"\n",
    "tokenizer = BertTokenizer.from_pretrained('bert-base-chinese')\n",
    "inputs_token = tokenizer(\n",
    "    text,\n",
    "    return_tensors='pt',\n",
    "    max_length=args.max_seq_len,\n",
    "    truncation=True,\n",
    "    padding='max_length'\n",
    ")\n",
    "args.vocab_size = tokenizer.vocab_size\n",
    "transformer = Transformer(args)\n",
    "inputs_id = inputs_token['input_ids']\n",
    "logits, loss = transformer.forward(inputs_id)\n",
    "print(\"logits:\", logits)\n",
    "predicted_ids = torch.argmax(logits, dim=-1).item()\n",
    "output = tokenizer.decode(predicted_ids)\n",
    "print(\"output:\", output)"
   ]
  }
 ],
 "metadata": {
  "kernelspec": {
   "display_name": "Python 3 (ipykernel)",
   "language": "python",
   "name": "python3"
  },
  "language_info": {
   "codemirror_mode": {
    "name": "ipython",
    "version": 3
   },
   "file_extension": ".py",
   "mimetype": "text/x-python",
   "name": "python",
   "nbconvert_exporter": "python",
   "pygments_lexer": "ipython3",
   "version": "3.10.5"
  }
 },
 "nbformat": 4,
 "nbformat_minor": 5
}
