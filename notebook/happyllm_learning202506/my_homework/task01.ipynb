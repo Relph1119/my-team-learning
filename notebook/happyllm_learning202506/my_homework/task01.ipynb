{
 "cells": [
  {
   "cell_type": "markdown",
   "id": "4ae17c24",
   "metadata": {},
   "source": [
    "# Task01 NLP基础概念"
   ]
  },
  {
   "cell_type": "markdown",
   "id": "6390a24e",
   "metadata": {},
   "source": [
    "## 1 NLP概念"
   ]
  },
  {
   "cell_type": "markdown",
   "id": "1874c785",
   "metadata": {},
   "source": [
    "- NLP能处理的任务：中文分词、子词切分、词性标注、文本分类、实体识别、关系抽取、文本摘要、机器翻译、自动问答等"
   ]
  },
  {
   "cell_type": "markdown",
   "id": "40366a22",
   "metadata": {},
   "source": [
    "## 2 NLP发展历程"
   ]
  },
  {
   "cell_type": "markdown",
   "id": "4a05f203",
   "metadata": {},
   "source": [
    "- 早期探索（1940年代 - 1960年代）：图灵测试，诺姆·乔姆斯基提出了生成语法理论，机器翻译主要依赖字典查找和基本的词序规则。\n",
    "- 符号主义与统计方法（1970年代 - 1990年代）：符号主义研究者关注于形式语言和生成语法，而统计方法的研究者更加关注于统计和概率方法。\n",
    "- 机器学习与深度学习（2000年代至今）：从RNN、LSTM到Word2Vec，从BERT到Transformer架构模型。"
   ]
  },
  {
   "cell_type": "markdown",
   "id": "35cb2e6f",
   "metadata": {},
   "source": [
    "## 3 NLP任务"
   ]
  },
  {
   "cell_type": "markdown",
   "id": "ecd052c6",
   "metadata": {},
   "source": [
    "- 中文分词：将连续的中文文本切分成有意义的词汇序列。\n",
    "- 子词切分：将词汇进一步分解为更小的单位，适用于处理词汇稀疏问题。将单词分解成更小的、频繁出现的片段，这些片段可以是单个字符、字符组合或者词根和词缀。\n",
    "- 词性标注：为文本中的每个单词分配一个词性标签，如名词、动词、形容词等。为了更好地理解句子结构。\n",
    "- 文本分类：将给定的文本自动分配到一个或多个预定义的类别中。可适用于情感分析、垃圾邮件检测、新闻分类、主题识别等不同场景下。\n",
    "- 实体识别：将它们分类为预定义的类别，如人名、地点、组织、日期、时间等。\n",
    "- 关系抽取：从文本中识别实体之间的语义关系。\n",
    "- 文本摘要：\n",
    "    - 抽取式：直接从原文中选取关键句子或短语来组成摘要。\n",
    "    - 生成式：不仅涉及选择文本片段，还需要对这些片段进行重新组织和改写，并生成新的内容。\n",
    "- 机器翻译：将一种自然语言（源语言）自动翻译成另一种自然语言（目标语言）的过程。\n",
    "- 自动问答：理解自然语言提出的问题，并根据给定的数据源自动提供准确的答案。"
   ]
  },
  {
   "cell_type": "markdown",
   "id": "9ed44561",
   "metadata": {},
   "source": [
    "## 4 文本表示的发展历程"
   ]
  },
  {
   "cell_type": "markdown",
   "id": "f012b087",
   "metadata": {},
   "source": [
    "- 词向量：通过向量空间模型将文本（包括单词、句子、段落或整个文档）转换为高维空间中的向量。\n",
    "- 语言模型：N-gram 模型基于马尔可夫假设，即一个词的出现概率仅依赖于它前面的N-1个词。\n",
    "- Word2Vec：通过学习词与词之间的上下文关系来生成词的密集向量表示。\n",
    "- ELMo：在大型语料库上训练语言模型，得到词向量模型，然后在特定任务上对模型进行微调，得到更适合该任务的词向量。"
   ]
  }
 ],
 "metadata": {
  "kernelspec": {
   "display_name": "Python 3 (ipykernel)",
   "language": "python",
   "name": "python3"
  },
  "language_info": {
   "codemirror_mode": {
    "name": "ipython",
    "version": 3
   },
   "file_extension": ".py",
   "mimetype": "text/x-python",
   "name": "python",
   "nbconvert_exporter": "python",
   "pygments_lexer": "ipython3",
   "version": "3.10.5"
  }
 },
 "nbformat": 4,
 "nbformat_minor": 5
}
