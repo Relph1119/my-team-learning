{
 "cells": [
  {
   "cell_type": "markdown",
   "id": "bd9839b9",
   "metadata": {},
   "source": [
    "# Task06 大模型训练流程实践"
   ]
  },
  {
   "cell_type": "code",
   "execution_count": null,
   "id": "91e0b2b0",
   "metadata": {},
   "outputs": [],
   "source": []
  }
 ],
 "metadata": {
  "kernelspec": {
   "display_name": "Python 3 (ipykernel)",
   "language": "python",
   "name": "python3"
  },
  "language_info": {
   "codemirror_mode": {
    "name": "ipython",
    "version": 3
   },
   "file_extension": ".py",
   "mimetype": "text/x-python",
   "name": "python",
   "nbconvert_exporter": "python",
   "pygments_lexer": "ipython3",
   "version": "3.10.5"
  }
 },
 "nbformat": 4,
 "nbformat_minor": 5
}
